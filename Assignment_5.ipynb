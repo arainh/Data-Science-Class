{
 "metadata": {
  "name": "",
  "signature": "sha256:1ba5c71008d0f8b0eb94bcec1ab3b81da90ad2560bbf8f4b70a5c88eb0ff59f0"
 },
 "nbformat": 3,
 "nbformat_minor": 0,
 "worksheets": [
  {
   "cells": [
    {
     "cell_type": "markdown",
     "metadata": {},
     "source": [
      "## Assignment 5 K-Means++\n",
      "\n",
      "###Name: April Hudspeth\n",
      "###Student ID: 995032557"
     ]
    },
    {
     "cell_type": "markdown",
     "metadata": {},
     "source": [
      "#### Step 1. Pull in the datasets "
     ]
    },
    {
     "cell_type": "code",
     "collapsed": false,
     "input": [
      "import numpy as np\n",
      "import scipy.sparse as sp\n",
      "import numpy.random as npr\n",
      "import matplotlib.pyplot as plt\n",
      "%matplotlib inline\n",
      "\n",
      "test_labels = np.loadtxt(\"Datasets/test.labels.txt\")          # test labels  \n",
      "test = np.loadtxt(\"Datasets/test.txt\")        # test data \n",
      "train_labels = np.loadtxt(\"Datasets/train.labels.txt\")     # train labels\n",
      "train = np.loadtxt(\"Datasets/train.txt\")     # train data\n",
      "\n"
     ],
     "language": "python",
     "metadata": {},
     "outputs": [],
     "prompt_number": 69
    },
    {
     "cell_type": "code",
     "collapsed": false,
     "input": [
      "trn = np.reshape(train, 3136000)\n",
      "train.shape\n",
      "trn.shape"
     ],
     "language": "python",
     "metadata": {},
     "outputs": [
      {
       "metadata": {},
       "output_type": "pyout",
       "prompt_number": 70,
       "text": [
        "(3136000,)"
       ]
      }
     ],
     "prompt_number": 70
    },
    {
     "cell_type": "code",
     "collapsed": false,
     "input": [
      "test.shape"
     ],
     "language": "python",
     "metadata": {},
     "outputs": [
      {
       "metadata": {},
       "output_type": "pyout",
       "prompt_number": 71,
       "text": [
        "(784, 2000)"
       ]
      }
     ],
     "prompt_number": 71
    },
    {
     "cell_type": "code",
     "collapsed": false,
     "input": [
      "import random\n",
      "import time\n",
      "time1= []\n",
      "time2= []\n",
      "time3 = []\n",
      "prec = []\n",
      "\n",
      "def kmeans_plus_plus(n_rows):\n",
      "    number_of_rows = 50\n",
      "    Ex = trn[0:n_rows]\n",
      "   \n",
      "    X = trn[0:n_rows]\n",
      "   \n",
      "    \n",
      "    centers = []\n",
      "    # choose an initial center c_1 uniformly at random from training set\n",
      "    c1 = npr.choice(Ex, 1) #change to training set\n",
      "#     print \"first random center choice: \", c1[0]\n",
      "    centers.append(c1[0])\n",
      "#     print \"added to centers array: \", centers\n",
      "\n",
      "    # Compute the vector containing the square distances between all points in the dataset and c_1\n",
      "\n",
      "    D2 = np.array([np.linalg.norm(t-c1)**2 for t in Ex]) #change to training set\n",
      "#     print \"the squared distance between c1 and all data points: \", D2\n",
      "\n",
      "    probs = D2/D2.sum()\n",
      "#     print \"the probabilities for D2/D2.sum(): \", probs\n",
      "    cumprobs = probs.cumsum()\n",
      "#     print \"the cumulative probabilites for probs.cumsum(): \", cumprobs\n",
      "\n",
      "    for i in range(0,9):\n",
      "        r = random.random()\n",
      "        ind = np.where(cumprobs >= r)\n",
      "        centers.append(Ex[ind]) #change to training set\n",
      "\n",
      "    return centers\n",
      "\n",
      "\n",
      "rows = [500]\n",
      "\n",
      "start_time = time.time()\n",
      "#pass kmeans_plus_plus the number of rows\n",
      "kmeans_plus_plus(50)\n",
      "#store the number and the time in the list\n"
     ],
     "language": "python",
     "metadata": {},
     "outputs": [
      {
       "metadata": {},
       "output_type": "pyout",
       "prompt_number": 350,
       "text": [
        "[0.0,\n",
        " array([], dtype=float64),\n",
        " array([], dtype=float64),\n",
        " array([], dtype=float64),\n",
        " array([], dtype=float64),\n",
        " array([], dtype=float64),\n",
        " array([], dtype=float64),\n",
        " array([], dtype=float64),\n",
        " array([], dtype=float64),\n",
        " array([], dtype=float64)]"
       ]
      }
     ],
     "prompt_number": 350
    },
    {
     "cell_type": "code",
     "collapsed": false,
     "input": [
      "import pandas as pd\n",
      "#The first 50 labels of test labels\n",
      "r = test_labels[0:50]\n",
      "\n",
      "\n",
      "def cluster_test_digits():\n",
      "    ex_labels = np.random.randint(10, size=50)\n",
      "    test_data = np.random.randint(10, size=50)\n",
      "    #You get a point from the test dataset and compute its euclidian distance to all ten centroids. \n",
      "    #Assume distances are 1,2 and 4\n",
      "    probabilities = []\n",
      "    #random point from test dataset\n",
      "    for t in test_data:\n",
      "\n",
      "        #compute eculidian distance to all ten centroids\n",
      "        Dists = np.array([np.linalg.norm(t-c)**2 + 1 for c in centers])\n",
      "\n",
      "        #Then you convert distances to invert distance: 1/1, 1/2, and 1/4\n",
      "        Dists = 1/Dists\n",
      "\n",
      "        #normalize the points such that their sum is one\n",
      "        Dists = [float(i)/sum(Dists) for i in Dists]\n",
      "\n",
      "        #compute the probablilities\n",
      "        Dists = [float(i)*100 for i in Dists]\n",
      "\n",
      "        #store all the probabilities for each point in data set\n",
      "        probabilities.append(Dists)\n",
      "\n",
      "    #create a new list of each data point's assigned cluster\n",
      "\n",
      "    d_prime = []\n",
      "    probabilities = np.array(probabilities)\n",
      "\n",
      "\n",
      "    for i in range(len(probabilities)):\n",
      "        d_prime.append(np.argmax(probabilities[i]))\n",
      "\n",
      "    #create a dataframe with columns, D, D', 0, 1, 2, 3, 4, 5, 6, 7, 8, 9\n",
      "    \n",
      "    pf = []\n",
      "    for i in range(len(probabilities)):\n",
      "        row = pd.DataFrame([probabilities[i]], columns=list('0123456789'), index=[i])\n",
      "        pf.append(row)\n",
      "\n",
      "   \n",
      "    nd = pd.concat(pf)\n",
      "\n",
      "    labels = pd.Series(list(ex_labels))\n",
      "\n",
      "\n",
      "    assigned = pd.Series(d_prime)\n",
      "    table = {\"D\": ex_labels, \"D'\": d_prime}\n",
      "    table = pd.DataFrame(table)\n",
      "    table = table.join(nd)\n",
      "    return table\n",
      "\n",
      "t = cluster_test_digits()\n"
     ],
     "language": "python",
     "metadata": {},
     "outputs": [],
     "prompt_number": 351
    },
    {
     "cell_type": "code",
     "collapsed": false,
     "input": [
      "#\ud835\udc5d\ud835\udc5f\ud835\udc52\ud835\udc50\ud835\udc56\ud835\udc60\ud835\udc56\ud835\udc5c\ud835\udc5b = (number of correct labels/total number of test digits in the test dataset) \u00d7 100\n",
      "from __future__ import division\n",
      "def evaluation(num_rows):\n",
      "    number_of_digits = 50\n",
      "    correct_count = 0\n",
      "\n",
      "    for l in range(len(ex_labels)):\n",
      "        if ex_labels[l] == d_prime[l]:\n",
      "            correct_count = correct_count + 1\n",
      "\n",
      "    correct_labels = correct_count\n",
      "\n",
      "    precision = float(correct_labels/num_rows) * 100\n",
      "    return precision\n",
      "    \n",
      "time3 = []\n",
      "start_time = time.time()\n",
      "\n",
      "#print(\"--- %s seconds ---\" % (time.time() - start_time))\n",
      "time3.append((time.time() - start_time))\n"
     ],
     "language": "python",
     "metadata": {},
     "outputs": [],
     "prompt_number": 360
    },
    {
     "cell_type": "code",
     "collapsed": false,
     "input": [
      "precisions = []\n",
      "time1 = []\n",
      "time2 = []\n",
      "time3 = []\n",
      "n_rows = [500, 1000, 2000, 4000]\n",
      "\n",
      "def start(num_rows):\n",
      "    print num_rows\n",
      "    start_time = time.time()\n",
      "    centroids = kmeans_plus_plus(num_rows)\n",
      "#     print(\"--- %s seconds ---\" % (time.time() - start_time))\n",
      "    time1.append((time.time() - start_time))\n",
      "#     print centroids\n",
      "\n",
      "\n",
      "    start_time = time.time()\n",
      "    ta = cluster_test_digits()\n",
      "#     print(\"--- %s seconds ---\" % (time.time() - start_time))\n",
      "    time2.append((time.time() - start_time))\n",
      "\n",
      "    start_time = time.time()\n",
      "    precisions.append(evaluation(num_rows))\n",
      "#     print(\"--- %s seconds ---\" % (time.time() - start_time))\n",
      "    time3.append((time.time() - start_time))\n",
      "\n",
      "    return time1, time2, time3, precisions\n",
      "    ta\n",
      "    \n",
      "results = []\n",
      "for i in range(0,4):\n",
      "    results = start(n_rows[i])\n",
      "print results\n",
      "res = {\"rows\": n_rows, \"t1\": list(results[0]), \"t2\": list(results[1]), \"t3\": list(results[2]), \"precision\": list(results[3])}\n",
      "print pd.DataFrame(res)\n"
     ],
     "language": "python",
     "metadata": {},
     "outputs": [
      {
       "output_type": "stream",
       "stream": "stdout",
       "text": [
        "500\n",
        "1000"
       ]
      },
      {
       "output_type": "stream",
       "stream": "stdout",
       "text": [
        "\n",
        "2000"
       ]
      },
      {
       "output_type": "stream",
       "stream": "stdout",
       "text": [
        "\n",
        "4000"
       ]
      },
      {
       "output_type": "stream",
       "stream": "stdout",
       "text": [
        "\n",
        "([0.006781101226806641, 0.031117916107177734, 0.07178688049316406, 0.11094212532043457], [0.14843392372131348, 0.17559599876403809, 0.16000699996948242, 0.12558913230895996], [2.2172927856445312e-05, 2.002716064453125e-05, 2.09808349609375e-05, 2.4080276489257812e-05], [1.2, 0.6, 0.3, 0.15])"
       ]
      },
      {
       "output_type": "stream",
       "stream": "stdout",
       "text": [
        "\n",
        "   precision  rows        t1        t2        t3\n",
        "0       1.20   500  0.006781  0.148434  0.000022\n",
        "1       0.60  1000  0.031118  0.175596  0.000020\n",
        "2       0.30  2000  0.071787  0.160007  0.000021\n",
        "3       0.15  4000  0.110942  0.125589  0.000024\n"
       ]
      }
     ],
     "prompt_number": 374
    },
    {
     "cell_type": "code",
     "collapsed": false,
     "input": [],
     "language": "python",
     "metadata": {},
     "outputs": [],
     "prompt_number": 353
    },
    {
     "cell_type": "code",
     "collapsed": false,
     "input": [],
     "language": "python",
     "metadata": {},
     "outputs": [],
     "prompt_number": 353
    },
    {
     "cell_type": "code",
     "collapsed": false,
     "input": [],
     "language": "python",
     "metadata": {},
     "outputs": []
    }
   ],
   "metadata": {}
  }
 ]
}